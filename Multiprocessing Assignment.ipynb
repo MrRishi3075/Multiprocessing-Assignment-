{
 "cells": [
  {
   "cell_type": "markdown",
   "id": "dee0df95-134f-4aa4-bbfb-085392e318b7",
   "metadata": {},
   "source": [
    "### Q1. What is multiprocessing in python? Why is it useful?"
   ]
  },
  {
   "cell_type": "markdown",
   "id": "6ce15789-e33a-4ace-84b2-a79f1c3b3500",
   "metadata": {},
   "source": [
    "#### In Python, multiprocessing is a module that allows you to create and manage multiple processes to achieve parallelism and take advantage of multi-core processors. It enables you to run separate, independent tasks concurrently in different processes, thereby utilizing multiple CPU cores to improve the performance and efficiency of your Python programs.\n",
    "\n",
    "The multiprocessing module provides a Process class that allows you to create new processes and manage their execution. Each process runs independently, with its own memory space and interpreter, making it different from multithreading, where multiple threads share the same memory space.\n",
    "\n",
    "Key features and benefits of multiprocessing in Python:\n",
    "\n",
    "### Parallelism:\n",
    "Multiprocessing allows you to perform computationally intensive tasks concurrently across multiple CPU cores. This can lead to significant speedup for tasks that can be split into smaller subtasks and processed independently.\n",
    "\n",
    "### Improved Performance: \n",
    "By utilizing multiple cores, multiprocessing can maximize CPU utilization and reduce the time taken to complete tasks. This is particularly useful for tasks that can be executed independently and do not rely heavily on shared resources.\n",
    "\n",
    "### GIL Bypass:\n",
    "The Global Interpreter Lock (GIL) in Python limits the execution of bytecode to one thread at a time, which can restrict performance in CPU-bound tasks when using multithreading. With multiprocessing, each process has its own interpreter and memory space, bypassing the GIL and allowing true parallel execution.\n",
    "\n",
    "### Robustness:\n",
    "Since each process operates independently, issues like race conditions and deadlocks that can occur in multithreaded applications are generally avoided in multiprocessing.\n",
    "\n",
    "### Fault Isolation:\n",
    "If one process encounters an error or crashes, it won't affect other processes. This isolation enhances the stability and reliability of the overall program.\n",
    "\n",
    "### Platform Independence:\n",
    "The multiprocessing module works consistently across different platforms and operating systems, making it a portable solution for parallel processing.\n",
    "\n",
    "It's essential to note that multiprocessing is most beneficial for CPU-bound tasks, where the computation takes significant time and can be parallelized. For I/O-bound tasks, like reading/writing files or making network requests, the benefits of multiprocessing may be limited due to the underlying I/O bottlenecks.\n",
    "\n",
    "To implement multiprocessing in Python, you can use the multiprocessing.Process class to create new processes, and you can communicate between processes using communication mechanisms like pipes, queues, or shared memory objects provided by the multiprocessing module."
   ]
  },
  {
   "cell_type": "markdown",
   "id": "0f9b5394-0172-4738-96e2-afbb6a5a5a5b",
   "metadata": {},
   "source": [
    "### Some Example Of Multiprocessing."
   ]
  },
  {
   "cell_type": "code",
   "execution_count": 1,
   "id": "a4019431-b678-41f8-9f83-5b2bf1114507",
   "metadata": {},
   "outputs": [
    {
     "name": "stdout",
     "output_type": "stream",
     "text": [
      "Process 0: Square of 9 is 81\n",
      "Process 1: Square of 3 is 9\n",
      "Process 2: Square of 4 is 16\n",
      "Process 3: Square of 6 is 36\n",
      "Process 4: Square of 8 is 64\n",
      "Process 5: Square of 7 is 49\n",
      "All processes are done.\n",
      "Results: [81, 9, 16, 36, 64, 49]\n"
     ]
    }
   ],
   "source": [
    "import multiprocessing\n",
    "\n",
    "def square(number, result, index):\n",
    "    \"\"\"Calculate the square of a number and store it in the result list.\"\"\"\n",
    "    squared = number ** 2\n",
    "    print(f\"Process {index}: Square of {number} is {squared}\")\n",
    "    result[index] = squared\n",
    "\n",
    "if __name__ == \"__main__\":\n",
    "    numbers = [9,3,4,6,8,7]\n",
    "    result = multiprocessing.Array('i', len(numbers))  # Shared memory array to store results\n",
    "\n",
    "    processes = []\n",
    "    for i, num in enumerate(numbers):\n",
    "        process = multiprocessing.Process(target=square, args=(num, result, i))\n",
    "        processes.append(process)\n",
    "\n",
    "    # Start all processes\n",
    "    for process in processes:\n",
    "        process.start()\n",
    "\n",
    "    # Wait for all processes to finish\n",
    "    for process in processes:\n",
    "        process.join()\n",
    "\n",
    "    print(\"All processes are done.\")\n",
    "    print(\"Results:\", list(result))\n"
   ]
  },
  {
   "cell_type": "markdown",
   "id": "f2405354-05ac-43fc-9298-beebebc5ba13",
   "metadata": {},
   "source": [
    "## Q2. What are the differences between multiprocessing and multithreading?"
   ]
  },
  {
   "cell_type": "markdown",
   "id": "60b0b4db-7bbc-4f57-a6cf-de3ca3d61a2e",
   "metadata": {},
   "source": [
    "Multiprocessing and multithreading are two different approaches to achieve concurrent execution in a program. They have distinct characteristics, advantages, and use cases. Here are the key differences between multiprocessing and multithreading:\n",
    "\n",
    "Definition:\n",
    "\n",
    "Multiprocessing: Multiprocessing involves creating multiple processes, where each process runs independently with its own memory space and interpreter. Each process has its own Python interpreter, and they communicate through inter-process communication mechanisms.\n",
    "Multithreading: Multithreading involves creating multiple threads within the same process. Threads share the same memory space and resources of the parent process and are executed concurrently within that process.\n",
    "\n",
    "### Resource Sharing:\n",
    "\n",
    "Multiprocessing: Processes have separate memory spaces, which means they do not share data and resources by default. To share data between processes, explicit communication mechanisms like pipes, queues, or shared memory must be used.\n",
    "Multithreading: Threads share the same memory space, allowing them to access shared data and resources without additional communication mechanisms. However, this shared access requires proper synchronization to avoid race conditions and other concurrent issues.\n",
    "\n",
    "## Performance:\n",
    "\n",
    "Multiprocessing: In Python, multiprocessing can achieve true parallelism by running processes on multiple CPU cores. This is beneficial for CPU-bound tasks that can be parallelized, as it allows for better utilization of multi-core processors.\n",
    "Multithreading: Due to the Global Interpreter Lock (GIL) in Python, multithreading does not achieve true parallelism for CPU-bound tasks. The GIL restricts the execution of Python bytecode to one thread at a time, limiting the performance improvement for CPU-bound tasks in multithreading scenarios. However, it can still be useful for I/O-bound tasks that spend a lot of time waiting for input/output operations.\n",
    "\n",
    "### Complexity:\n",
    "\n",
    "## Multiprocessing: \n",
    "\n",
    "Multiprocessing introduces higher complexity due to the separate memory spaces and the need for inter-process communication mechanisms for data sharing. As a result, it may be more challenging to implement and debug compared to multithreading.\n",
    "Multithreading: Multithreading is generally less complex as threads share the same memory space, and inter-thread communication is more straightforward. However, dealing with thread synchronization to avoid race conditions and deadlocks can still be challenging.\n",
    "\n",
    "\n",
    "### Robustness:\n",
    "\n",
    "## Multiprocessing: \n",
    "\n",
    "Since processes have separate memory spaces, issues in one process typically do not affect others, making multiprocessing more robust in handling errors and crashes.\n",
    "\n",
    "Multithreading:\n",
    "\n",
    "Errors in one thread can potentially impact the entire process due to shared memory space, making multithreading more susceptible to issues like data corruption or segmentation faults.\n",
    "In summary, multiprocessing and multithreading offer different strategies for concurrent execution in Python. Use multiprocessing when you need true parallelism for CPU-bound tasks or when you want to isolate processes and avoid potential issues between them. Use multithreading when dealing with I/O-bound tasks that can benefit from concurrent execution and when the overhead of creating processes is not necessary. The choice between multiprocessing and multithreading depends on the nature of your application and the specific performance and resource requirements."
   ]
  },
  {
   "cell_type": "markdown",
   "id": "583bdd70-3a02-4b32-ab23-0aec63efd0b1",
   "metadata": {},
   "source": [
    "### Multiprocessing  example"
   ]
  },
  {
   "cell_type": "code",
   "execution_count": 9,
   "id": "91c0a5bb-270b-41d6-b758-7f9c3eb70ec1",
   "metadata": {},
   "outputs": [
    {
     "name": "stdout",
     "output_type": "stream",
     "text": [
      "Squared Results: [1, 4, 9, 16, 25]\n"
     ]
    }
   ],
   "source": [
    "import multiprocessing\n",
    "\n",
    "def square(number):\n",
    "    \"\"\"Calculate the square of a number.\"\"\"\n",
    "    return number ** 2\n",
    "\n",
    "if __name__ == \"__main__\":\n",
    "    numbers = [1, 2, 3, 4, 5]\n",
    "\n",
    "    # Create a multiprocessing pool with the number of available CPU cores\n",
    "    pool = multiprocessing.Pool()\n",
    "\n",
    "    # Map the square function to the list of numbers using multiprocessing\n",
    "    squared_results = pool.map(square, numbers)\n",
    "\n",
    "    # Close the pool and wait for all processes to finish\n",
    "    pool.close()\n",
    "    pool.join()\n",
    "\n",
    "    print(\"Squared Results:\", squared_results)\n"
   ]
  },
  {
   "cell_type": "markdown",
   "id": "77ba8d23-5858-4ec7-bb6e-15d8b04d0a39",
   "metadata": {},
   "source": [
    "### Multithreading Example"
   ]
  },
  {
   "cell_type": "code",
   "execution_count": 7,
   "id": "c2ca9973-59a2-49f8-aa31-497c24785c5a",
   "metadata": {},
   "outputs": [
    {
     "name": "stdout",
     "output_type": "stream",
     "text": [
      "Downloaded file3.txt from https://example.com/file3.txt\n",
      "Downloaded file1.txt from https://example.com/file1.txt\n",
      "Downloaded file2.txt from https://example.com/file2.txt\n",
      "All downloads are complete.\n"
     ]
    }
   ],
   "source": [
    "import threading\n",
    "import requests\n",
    "\n",
    "def download_file(url, filename):\n",
    "    \"\"\"Download a file from the given URL and save it with the specified filename.\"\"\"\n",
    "    response = requests.get(url)\n",
    "    with open(filename, 'wb') as file:\n",
    "        file.write(response.content)\n",
    "    print(f\"Downloaded {filename} from {url}\")\n",
    "\n",
    "if __name__ == \"__main__\":\n",
    "    urls = [\n",
    "        \"https://example.com/file1.txt\",\n",
    "        \"https://example.com/file2.txt\",\n",
    "        \"https://example.com/file3.txt\"\n",
    "    ]\n",
    "\n",
    "    threads = []\n",
    "    for i, url in enumerate(urls):\n",
    "        filename = f\"file{i+1}.txt\"\n",
    "        thread = threading.Thread(target=download_file, args=(url, filename))\n",
    "        threads.append(thread)\n",
    "\n",
    "    # Start all threads\n",
    "    for thread in threads:\n",
    "        thread.start()\n",
    "\n",
    "    # Wait for all threads to finish\n",
    "    for thread in threads:\n",
    "        thread.join()\n",
    "\n",
    "    print(\"All downloads are complete.\")\n"
   ]
  },
  {
   "cell_type": "markdown",
   "id": "510d6472-fe00-4b74-89da-8e0b9b1486d7",
   "metadata": {},
   "source": [
    "## Q3. Write a python code to create a process using the multiprocessing module."
   ]
  },
  {
   "cell_type": "code",
   "execution_count": 13,
   "id": "5c534428-2e3a-46c1-a5e3-b918e187a4c1",
   "metadata": {},
   "outputs": [
    {
     "name": "stdout",
     "output_type": "stream",
     "text": [
      "This IS The Main Proccenig Unit\n",
      "This IS The Middle  Processing Unit\n",
      "This Is The Final Processing Unit\n"
     ]
    }
   ],
   "source": [
    "import multiprocessing\n",
    "\n",
    "def test():\n",
    "    print(\"This Is The Final Processing Unit\")\n",
    "    \n",
    "if __name__== '__main__':\n",
    "    m = multiprocessing.Process(target = test )\n",
    "    print(\"This IS The Main Proccenig Unit\")\n",
    "    print(\"This IS The Middle  Processing Unit\")\n",
    "    m.start()\n",
    "    m.join()\n",
    "    \n",
    "    "
   ]
  },
  {
   "cell_type": "code",
   "execution_count": 20,
   "id": "c19da33a-e075-40c4-8acf-79dd52ff6e66",
   "metadata": {},
   "outputs": [
    {
     "name": "stdout",
     "output_type": "stream",
     "text": [
      "[1, 4, 9, 2025, 36, 64, 49, 81, 25, 36]\n"
     ]
    }
   ],
   "source": [
    "import multiprocessing\n",
    "\n",
    "def square(r):\n",
    "    return r**2\n",
    "if __name__== '__main__':\n",
    "    \n",
    "    with multiprocessing.Pool(processes = 4)  as pool:\n",
    "        R=pool.map(square , [ 1,2,3,45,6,8,7,9,5,6])\n",
    "        print(R)\n",
    "    \n",
    "         "
   ]
  },
  {
   "cell_type": "markdown",
   "id": "95fefcbc-f045-4074-bafd-2655de989141",
   "metadata": {},
   "source": [
    "## Q4. What is a multiprocessing pool in python? Why is it used?"
   ]
  },
  {
   "cell_type": "markdown",
   "id": "36ef17ea-9683-42e4-873c-eff58b1e7fc7",
   "metadata": {},
   "source": [
    "In Python's multiprocessing module, a multiprocessing pool is a high-level abstraction that allows you to efficiently distribute tasks among multiple processes and manage their execution. It provides a convenient way to parallelize a function across a pool of worker processes, making it easier to take advantage of multi-core processors and achieve parallelism.\n",
    "\n",
    "The multiprocessing.Pool class is used to create a pool of worker processes, and it provides several methods to execute tasks concurrently. The main functionalities of the multiprocessing.\n",
    "\n",
    "# Pool are:\n",
    "\n",
    "### Parallel Execution:\n",
    "\n",
    "The pool distributes the tasks among the available worker processes, allowing multiple tasks to be executed concurrently, thus leveraging the processing power of multiple CPU cores.\n",
    "\n",
    "### Task Distribution:\n",
    "\n",
    "The Pool class automatically divides the workload among the worker processes, making it easier for developers to parallelize their code without having to explicitly manage the processes.\n",
    "\n",
    "### Result Collection:\n",
    "\n",
    "The Pool class provides methods like map() and apply_async() to execute functions with arguments across the pool of worker processes and collect the results efficiently.\n",
    "\n",
    "The main methods of the multiprocessing.Pool class are:\n",
    "\n",
    "### map(func, iterable):\n",
    "\n",
    "This method applies the given function func to each element in the iterable concurrently, using the worker processes in the pool. It returns a list of results in the same order as the input elements.\n",
    "\n",
    "### apply_async(func, args): \n",
    "\n",
    "This method applies the given function func with the specified args to the pool of worker processes asynchronously. It returns a result object, which can be used to retrieve the result later using the get() method of the result object.\n",
    "\n",
    "### close():\n",
    "\n",
    "This method prevents any new tasks from being submitted to the pool. After calling close(), the pool remains active and continues to execute the existing tasks.\n",
    "\n",
    "### join():\n",
    "\n",
    "This method blocks the program until all the tasks in the pool have been completed. It should be called after submitting all the tasks using map() or apply_async() to ensure that the main process waits for the pool to finish its tasks.\n",
    "\n",
    "The multiprocessing.Pool is used when you have a task that can be parallelized, such as processing a large dataset, performing CPU-bound computations, or making multiple I/O-bound requests. By using a pool of worker processes, you can significantly improve the performance and reduce the overall execution time of these tasks by distributing the workload across multiple CPU cores.\n",
    "\n",
    "Using a multiprocessing pool is a convenient way to manage and control concurrent execution without having to manually create and manage individual processes. It abstracts away the complexities of managing processes and allows developers to focus on parallelizing their code more easily."
   ]
  },
  {
   "cell_type": "markdown",
   "id": "e5f010e8-c4cf-4533-8fc6-318516f8fa80",
   "metadata": {},
   "source": [
    "## Q5. How can we create a pool of worker processes in python using the multiprocessing module?"
   ]
  },
  {
   "cell_type": "markdown",
   "id": "7f651702-530c-4910-8ed1-5ee41cc66091",
   "metadata": {},
   "source": [
    "#### In Python, you can create a pool of worker processes using the multiprocessing.Pool class from the multiprocessing module. The Pool class provides a high-level interface to create and manage a pool of worker processes efficiently. Here's how you can create a pool of worker processes:"
   ]
  },
  {
   "cell_type": "code",
   "execution_count": 21,
   "id": "233031db-2166-4071-84eb-d1904dfabe0b",
   "metadata": {},
   "outputs": [
    {
     "name": "stdout",
     "output_type": "stream",
     "text": [
      "Results: [2, 4, 6, 8, 10]\n"
     ]
    }
   ],
   "source": [
    "import multiprocessing\n",
    "\n",
    "def process_task(task):\n",
    "    \"\"\"A function to be executed by the worker processes.\"\"\"\n",
    "    result = task * 2  # Example task: doubling the input\n",
    "    return result\n",
    "\n",
    "if __name__ == \"__main__\":\n",
    "    # Number of worker processes in the pool (defaults to the number of CPU cores)\n",
    "    num_processes = 4\n",
    "\n",
    "    # Create a pool of worker processes\n",
    "    pool = multiprocessing.Pool(processes=num_processes)\n",
    "\n",
    "    # List of tasks to be executed by the worker processes\n",
    "    tasks = [1, 2, 3, 4, 5]\n",
    "\n",
    "    # Distribute the tasks across the worker processes and collect the results\n",
    "    results = pool.map(process_task, tasks)\n",
    "\n",
    "    # Close the pool and wait for all processes to finish\n",
    "    pool.close()\n",
    "    pool.join()\n",
    "\n",
    "    print(\"Results:\", results)\n"
   ]
  },
  {
   "cell_type": "markdown",
   "id": "c1789910-1315-41a1-8a91-cd8fcdf8cee6",
   "metadata": {},
   "source": [
    "## Q6. Write a python program to create 4 processes, each process should print a different number using the multiprocessing module in python."
   ]
  },
  {
   "cell_type": "code",
   "execution_count": 22,
   "id": "b7484fc3-750b-40c2-a4ba-92dbd3c8f9e7",
   "metadata": {},
   "outputs": [
    {
     "name": "stdout",
     "output_type": "stream",
     "text": [
      "Number: 10\n",
      "Number: 20\n",
      "Number: 30\n",
      "Number: 40\n",
      "All processes are done.\n"
     ]
    }
   ],
   "source": [
    "import multiprocessing\n",
    "\n",
    "def print_number(number):\n",
    "    \"\"\"Function to print a given number.\"\"\"\n",
    "    print(\"Number:\", number)\n",
    "\n",
    "if __name__ == \"__main__\":\n",
    "    # List of numbers to be printed by each process\n",
    "    numbers = [10, 20, 30, 40]\n",
    "\n",
    "    processes = []\n",
    "    for num in numbers:\n",
    "        process = multiprocessing.Process(target=print_number, args=(num,))\n",
    "        processes.append(process)\n",
    "\n",
    "    # Start all processes\n",
    "    for process in processes:\n",
    "        process.start()\n",
    "\n",
    "    # Wait for all processes to finish\n",
    "    for process in processes:\n",
    "        process.join()\n",
    "\n",
    "    print(\"All processes are done.\")\n"
   ]
  },
  {
   "cell_type": "code",
   "execution_count": null,
   "id": "b651f97b-fde6-4cfb-8499-cfd517720671",
   "metadata": {},
   "outputs": [],
   "source": []
  }
 ],
 "metadata": {
  "kernelspec": {
   "display_name": "Python 3 (ipykernel)",
   "language": "python",
   "name": "python3"
  },
  "language_info": {
   "codemirror_mode": {
    "name": "ipython",
    "version": 3
   },
   "file_extension": ".py",
   "mimetype": "text/x-python",
   "name": "python",
   "nbconvert_exporter": "python",
   "pygments_lexer": "ipython3",
   "version": "3.10.8"
  }
 },
 "nbformat": 4,
 "nbformat_minor": 5
}
